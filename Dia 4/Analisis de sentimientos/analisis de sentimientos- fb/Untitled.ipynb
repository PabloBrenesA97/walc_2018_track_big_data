{
 "cells": [
  {
   "cell_type": "code",
   "execution_count": 17,
   "metadata": {},
   "outputs": [
    {
     "ename": "ERROR",
     "evalue": "Error in callAPI(url = url, token = token, api = api): (#10) To use 'Page Public Content Access', your use of this endpoint must be reviewed and approved by Facebook. To submit this 'Page Public Content Access' feature for review please read our documentation on reviewable features: https://developers.facebook.com/docs/apps/review.\n",
     "output_type": "error",
     "traceback": [
      "Error in callAPI(url = url, token = token, api = api): (#10) To use 'Page Public Content Access', your use of this endpoint must be reviewed and approved by Facebook. To submit this 'Page Public Content Access' feature for review please read our documentation on reviewable features: https://developers.facebook.com/docs/apps/review.\nTraceback:\n",
      "1. getPage(page = \"Figuerescr\", token = \"465005633934906|2N8tjsAYfkGVIiiwgWTSK-J654w\", \n .     n = Inf, since = \"2016/09/23\", until = \"2017/03/27\", reactions = T)",
      "2. callAPI(url = url, token = token, api = api)",
      "3. stop(content$error$message)"
     ]
    }
   ],
   "source": [
    "figueres_fb_page <- getPage(page = \"Figuerescr\", token = '465005633934906|2N8tjsAYfkGVIiiwgWTSK-J654w', n = Inf, \n",
    "    since = \"2016/09/23\", until = \"2017/03/27\", reactions = T)\n",
    "save(figueres_fb_page, file = \"figueres_fb_page3\")"
   ]
  },
  {
   "cell_type": "code",
   "execution_count": null,
   "metadata": {},
   "outputs": [],
   "source": [
    "save(fb_oauth, file=\"fb_oauth\")"
   ]
  },
  {
   "cell_type": "code",
   "execution_count": null,
   "metadata": {},
   "outputs": [],
   "source": []
  },
  {
   "cell_type": "code",
   "execution_count": null,
   "metadata": {},
   "outputs": [],
   "source": []
  },
  {
   "cell_type": "code",
   "execution_count": 7,
   "metadata": {},
   "outputs": [],
   "source": [
    "count <- c(nrow(figueres_fb_page))"
   ]
  }
 ],
 "metadata": {
  "kernelspec": {
   "display_name": "R",
   "language": "R",
   "name": "ir"
  },
  "language_info": {
   "codemirror_mode": "r",
   "file_extension": ".r",
   "mimetype": "text/x-r-source",
   "name": "R",
   "pygments_lexer": "r",
   "version": "3.3.3"
  }
 },
 "nbformat": 4,
 "nbformat_minor": 2
}
