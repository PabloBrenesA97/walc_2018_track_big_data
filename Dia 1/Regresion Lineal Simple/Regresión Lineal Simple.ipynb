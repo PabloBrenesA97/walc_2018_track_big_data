{
 "cells": [
  {
   "cell_type": "markdown",
   "metadata": {},
   "source": [
    "# Regresión Lineal Simple\n",
    "Los modelos lineales son una de las herramientas más importantes del análisis cuantitativo. Los utilizamos cuando queremos predecir –o explicar– una variable dependiente a partir de una variable independiente. El uso mismo de la terminología de variables dependientes e independientes nos da una pista del abordaje: el ajuste de modelos lineales busca encontrar una función –en el sentido matemático– que nos permite expresar a una variable a partir de otras.\n",
    "\n",
    "### Autores\n",
    "   * Efrén Jiménez"
   ]
  },
  {
   "cell_type": "markdown",
   "metadata": {},
   "source": [
    "## Análisis del Problema\n",
    "Este conjunto de datos contiene precios de venta de casas para el Condado de King, que incluye Seattle. Incluye casas vendidas entre mayo de 2014 y mayo de 2015.\n",
    "\n",
    "Es un gran conjunto de datos para evaluar modelos de regresión simples.\n",
    "![Proceso ROC](img/dataset-cover.jpg)"
   ]
  },
  {
   "cell_type": "markdown",
   "metadata": {},
   "source": [
    "## Entendimiento de los Datos\n",
    "\n",
    "Con el fin de analizar y tratar de predecir el precio de las casas ubicadas en el condado de King, se trabajó con un conjunto de datos que contiene 21613 observaciones y 2 variables:\n",
    "\n",
    "- price (precio): numérica, con un rango de 75000 a 7700000.\n",
    "- sqft_lot (metros cuadrados del lote): numérica, con un rango de 520 a 1651359"
   ]
  },
  {
   "cell_type": "code",
   "execution_count": 187,
   "metadata": {},
   "outputs": [
    {
     "data": {
      "text/plain": [
       "       id                         date           price            bedrooms     \n",
       " Min.   :1.000e+06   20140623T000000:  142   Min.   :  75000   Min.   : 0.000  \n",
       " 1st Qu.:2.123e+09   20140625T000000:  131   1st Qu.: 321950   1st Qu.: 3.000  \n",
       " Median :3.905e+09   20140626T000000:  131   Median : 450000   Median : 3.000  \n",
       " Mean   :4.580e+09   20140708T000000:  127   Mean   : 540088   Mean   : 3.371  \n",
       " 3rd Qu.:7.309e+09   20150427T000000:  126   3rd Qu.: 645000   3rd Qu.: 4.000  \n",
       " Max.   :9.900e+09   20150325T000000:  123   Max.   :7700000   Max.   :33.000  \n",
       "                     (Other)        :20833                                     \n",
       "   bathrooms      sqft_living       sqft_lot           floors     \n",
       " Min.   :0.000   Min.   :  290   Min.   :    520   Min.   :1.000  \n",
       " 1st Qu.:1.750   1st Qu.: 1427   1st Qu.:   5040   1st Qu.:1.000  \n",
       " Median :2.250   Median : 1910   Median :   7618   Median :1.500  \n",
       " Mean   :2.115   Mean   : 2080   Mean   :  15107   Mean   :1.494  \n",
       " 3rd Qu.:2.500   3rd Qu.: 2550   3rd Qu.:  10688   3rd Qu.:2.000  \n",
       " Max.   :8.000   Max.   :13540   Max.   :1651359   Max.   :3.500  \n",
       "                                                                  \n",
       "   waterfront            view          condition         grade       \n",
       " Min.   :0.000000   Min.   :0.0000   Min.   :1.000   Min.   : 1.000  \n",
       " 1st Qu.:0.000000   1st Qu.:0.0000   1st Qu.:3.000   1st Qu.: 7.000  \n",
       " Median :0.000000   Median :0.0000   Median :3.000   Median : 7.000  \n",
       " Mean   :0.007542   Mean   :0.2343   Mean   :3.409   Mean   : 7.657  \n",
       " 3rd Qu.:0.000000   3rd Qu.:0.0000   3rd Qu.:4.000   3rd Qu.: 8.000  \n",
       " Max.   :1.000000   Max.   :4.0000   Max.   :5.000   Max.   :13.000  \n",
       "                                                                     \n",
       "   sqft_above   sqft_basement       yr_built     yr_renovated   \n",
       " Min.   : 290   Min.   :   0.0   Min.   :1900   Min.   :   0.0  \n",
       " 1st Qu.:1190   1st Qu.:   0.0   1st Qu.:1951   1st Qu.:   0.0  \n",
       " Median :1560   Median :   0.0   Median :1975   Median :   0.0  \n",
       " Mean   :1788   Mean   : 291.5   Mean   :1971   Mean   :  84.4  \n",
       " 3rd Qu.:2210   3rd Qu.: 560.0   3rd Qu.:1997   3rd Qu.:   0.0  \n",
       " Max.   :9410   Max.   :4820.0   Max.   :2015   Max.   :2015.0  \n",
       "                                                                \n",
       "    zipcode           lat             long        sqft_living15 \n",
       " Min.   :98001   Min.   :47.16   Min.   :-122.5   Min.   : 399  \n",
       " 1st Qu.:98033   1st Qu.:47.47   1st Qu.:-122.3   1st Qu.:1490  \n",
       " Median :98065   Median :47.57   Median :-122.2   Median :1840  \n",
       " Mean   :98078   Mean   :47.56   Mean   :-122.2   Mean   :1987  \n",
       " 3rd Qu.:98118   3rd Qu.:47.68   3rd Qu.:-122.1   3rd Qu.:2360  \n",
       " Max.   :98199   Max.   :47.78   Max.   :-121.3   Max.   :6210  \n",
       "                                                                \n",
       "   sqft_lot15    \n",
       " Min.   :   651  \n",
       " 1st Qu.:  5100  \n",
       " Median :  7620  \n",
       " Mean   : 12768  \n",
       " 3rd Qu.: 10083  \n",
       " Max.   :871200  \n",
       "                 "
      ]
     },
     "metadata": {},
     "output_type": "display_data"
    },
    {
     "data": {
      "text/html": [
       "<table>\n",
       "<thead><tr><th></th><th scope=col>price</th><th scope=col>bedrooms</th><th scope=col>bathrooms</th><th scope=col>sqft_living</th><th scope=col>sqft_lot</th><th scope=col>floors</th><th scope=col>waterfront</th><th scope=col>view</th><th scope=col>condition</th><th scope=col>grade</th><th scope=col>grade.1</th><th scope=col>sqft_above</th><th scope=col>sqft_basement</th><th scope=col>yr_built</th></tr></thead>\n",
       "<tbody>\n",
       "\t<tr><th scope=row>price</th><td>1.00000000  </td><td> 0.308349598</td><td> 0.52513751 </td><td> 0.70203505 </td><td> 0.089660861</td><td> 0.256793888</td><td> 0.266369434</td><td> 0.39729349 </td><td> 0.03636179 </td><td> 0.66743426 </td><td> 0.66743426 </td><td> 0.60556730 </td><td> 0.32381602 </td><td> 0.05401153 </td></tr>\n",
       "\t<tr><th scope=row>bedrooms</th><td>0.30834960  </td><td> 1.000000000</td><td> 0.51588364 </td><td> 0.57667069 </td><td> 0.031703243</td><td> 0.175428935</td><td>-0.006582479</td><td> 0.07953185 </td><td> 0.02847210 </td><td> 0.35696673 </td><td> 0.35696673 </td><td> 0.47760016 </td><td> 0.30309338 </td><td> 0.15417807 </td></tr>\n",
       "\t<tr><th scope=row>bathrooms</th><td>0.52513751  </td><td> 0.515883638</td><td> 1.00000000 </td><td> 0.75466528 </td><td> 0.087739662</td><td> 0.500653173</td><td> 0.063743629</td><td> 0.18773702 </td><td>-0.12498193 </td><td> 0.66498253 </td><td> 0.66498253 </td><td> 0.68534248 </td><td> 0.28377003 </td><td> 0.50601944 </td></tr>\n",
       "\t<tr><th scope=row>sqft_living</th><td>0.70203505  </td><td> 0.576670693</td><td> 0.75466528 </td><td> 1.00000000 </td><td> 0.172825661</td><td> 0.353949290</td><td> 0.103817818</td><td> 0.28461119 </td><td>-0.05875259 </td><td> 0.76270448 </td><td> 0.76270448 </td><td> 0.87659660 </td><td> 0.43504297 </td><td> 0.31804877 </td></tr>\n",
       "\t<tr><th scope=row>sqft_lot</th><td>0.08966086  </td><td> 0.031703243</td><td> 0.08773966 </td><td> 0.17282566 </td><td> 1.000000000</td><td>-0.005200991</td><td> 0.021603683</td><td> 0.07471011 </td><td>-0.00895825 </td><td> 0.11362112 </td><td> 0.11362112 </td><td> 0.18351228 </td><td> 0.01528620 </td><td> 0.05308037 </td></tr>\n",
       "\t<tr><th scope=row>floors</th><td>0.25679389  </td><td> 0.175428935</td><td> 0.50065317 </td><td> 0.35394929 </td><td>-0.005200991</td><td> 1.000000000</td><td> 0.023698320</td><td> 0.02944382 </td><td>-0.26376795 </td><td> 0.45818251 </td><td> 0.45818251 </td><td> 0.52388471 </td><td>-0.24570454 </td><td> 0.48931942 </td></tr>\n",
       "\t<tr><th scope=row>waterfront</th><td>0.26636943  </td><td>-0.006582479</td><td> 0.06374363 </td><td> 0.10381782 </td><td> 0.021603683</td><td> 0.023698320</td><td> 1.000000000</td><td> 0.40185735 </td><td> 0.01665316 </td><td> 0.08277491 </td><td> 0.08277491 </td><td> 0.07207459 </td><td> 0.08058794 </td><td>-0.02616109 </td></tr>\n",
       "\t<tr><th scope=row>view</th><td>0.39729349  </td><td> 0.079531852</td><td> 0.18773702 </td><td> 0.28461119 </td><td> 0.074710106</td><td> 0.029443820</td><td> 0.401857351</td><td> 1.00000000 </td><td> 0.04598974 </td><td> 0.25132058 </td><td> 0.25132058 </td><td> 0.16764934 </td><td> 0.27694658 </td><td>-0.05343985 </td></tr>\n",
       "\t<tr><th scope=row>condition</th><td>0.03636179  </td><td> 0.028472104</td><td>-0.12498193 </td><td>-0.05875259 </td><td>-0.008958250</td><td>-0.263767946</td><td> 0.016653157</td><td> 0.04598974 </td><td> 1.00000000 </td><td>-0.14467367 </td><td>-0.14467367 </td><td>-0.15821362 </td><td> 0.17410491 </td><td>-0.36141656 </td></tr>\n",
       "\t<tr><th scope=row>grade</th><td>0.66743426  </td><td> 0.356966725</td><td> 0.66498253 </td><td> 0.76270448 </td><td> 0.113621124</td><td> 0.458182514</td><td> 0.082774914</td><td> 0.25132058 </td><td>-0.14467367 </td><td> 1.00000000 </td><td> 1.00000000 </td><td> 0.75592294 </td><td> 0.16839182 </td><td> 0.44696320 </td></tr>\n",
       "\t<tr><th scope=row>grade.1</th><td>0.66743426  </td><td> 0.356966725</td><td> 0.66498253 </td><td> 0.76270448 </td><td> 0.113621124</td><td> 0.458182514</td><td> 0.082774914</td><td> 0.25132058 </td><td>-0.14467367 </td><td> 1.00000000 </td><td> 1.00000000 </td><td> 0.75592294 </td><td> 0.16839182 </td><td> 0.44696320 </td></tr>\n",
       "\t<tr><th scope=row>sqft_above</th><td>0.60556730  </td><td> 0.477600161</td><td> 0.68534248 </td><td> 0.87659660 </td><td> 0.183512281</td><td> 0.523884710</td><td> 0.072074592</td><td> 0.16764934 </td><td>-0.15821362 </td><td> 0.75592294 </td><td> 0.75592294 </td><td> 1.00000000 </td><td>-0.05194331 </td><td> 0.42389835 </td></tr>\n",
       "\t<tr><th scope=row>sqft_basement</th><td>0.32381602  </td><td> 0.303093375</td><td> 0.28377003 </td><td> 0.43504297 </td><td> 0.015286202</td><td>-0.245704542</td><td> 0.080587939</td><td> 0.27694658 </td><td> 0.17410491 </td><td> 0.16839182 </td><td> 0.16839182 </td><td>-0.05194331 </td><td> 1.00000000 </td><td>-0.13312410 </td></tr>\n",
       "\t<tr><th scope=row>yr_built</th><td>0.05401153  </td><td> 0.154178069</td><td> 0.50601944 </td><td> 0.31804877 </td><td> 0.053080367</td><td> 0.489319425</td><td>-0.026161086</td><td>-0.05343985 </td><td>-0.36141656 </td><td> 0.44696320 </td><td> 0.44696320 </td><td> 0.42389835 </td><td>-0.13312410 </td><td> 1.00000000 </td></tr>\n",
       "</tbody>\n",
       "</table>\n"
      ],
      "text/latex": [
       "\\begin{tabular}{r|llllllllllllll}\n",
       "  & price & bedrooms & bathrooms & sqft\\_living & sqft\\_lot & floors & waterfront & view & condition & grade & grade.1 & sqft\\_above & sqft\\_basement & yr\\_built\\\\\n",
       "\\hline\n",
       "\tprice & 1.00000000   &  0.308349598 &  0.52513751  &  0.70203505  &  0.089660861 &  0.256793888 &  0.266369434 &  0.39729349  &  0.03636179  &  0.66743426  &  0.66743426  &  0.60556730  &  0.32381602  &  0.05401153 \\\\\n",
       "\tbedrooms & 0.30834960   &  1.000000000 &  0.51588364  &  0.57667069  &  0.031703243 &  0.175428935 & -0.006582479 &  0.07953185  &  0.02847210  &  0.35696673  &  0.35696673  &  0.47760016  &  0.30309338  &  0.15417807 \\\\\n",
       "\tbathrooms & 0.52513751   &  0.515883638 &  1.00000000  &  0.75466528  &  0.087739662 &  0.500653173 &  0.063743629 &  0.18773702  & -0.12498193  &  0.66498253  &  0.66498253  &  0.68534248  &  0.28377003  &  0.50601944 \\\\\n",
       "\tsqft\\_living & 0.70203505   &  0.576670693 &  0.75466528  &  1.00000000  &  0.172825661 &  0.353949290 &  0.103817818 &  0.28461119  & -0.05875259  &  0.76270448  &  0.76270448  &  0.87659660  &  0.43504297  &  0.31804877 \\\\\n",
       "\tsqft\\_lot & 0.08966086   &  0.031703243 &  0.08773966  &  0.17282566  &  1.000000000 & -0.005200991 &  0.021603683 &  0.07471011  & -0.00895825  &  0.11362112  &  0.11362112  &  0.18351228  &  0.01528620  &  0.05308037 \\\\\n",
       "\tfloors & 0.25679389   &  0.175428935 &  0.50065317  &  0.35394929  & -0.005200991 &  1.000000000 &  0.023698320 &  0.02944382  & -0.26376795  &  0.45818251  &  0.45818251  &  0.52388471  & -0.24570454  &  0.48931942 \\\\\n",
       "\twaterfront & 0.26636943   & -0.006582479 &  0.06374363  &  0.10381782  &  0.021603683 &  0.023698320 &  1.000000000 &  0.40185735  &  0.01665316  &  0.08277491  &  0.08277491  &  0.07207459  &  0.08058794  & -0.02616109 \\\\\n",
       "\tview & 0.39729349   &  0.079531852 &  0.18773702  &  0.28461119  &  0.074710106 &  0.029443820 &  0.401857351 &  1.00000000  &  0.04598974  &  0.25132058  &  0.25132058  &  0.16764934  &  0.27694658  & -0.05343985 \\\\\n",
       "\tcondition & 0.03636179   &  0.028472104 & -0.12498193  & -0.05875259  & -0.008958250 & -0.263767946 &  0.016653157 &  0.04598974  &  1.00000000  & -0.14467367  & -0.14467367  & -0.15821362  &  0.17410491  & -0.36141656 \\\\\n",
       "\tgrade & 0.66743426   &  0.356966725 &  0.66498253  &  0.76270448  &  0.113621124 &  0.458182514 &  0.082774914 &  0.25132058  & -0.14467367  &  1.00000000  &  1.00000000  &  0.75592294  &  0.16839182  &  0.44696320 \\\\\n",
       "\tgrade.1 & 0.66743426   &  0.356966725 &  0.66498253  &  0.76270448  &  0.113621124 &  0.458182514 &  0.082774914 &  0.25132058  & -0.14467367  &  1.00000000  &  1.00000000  &  0.75592294  &  0.16839182  &  0.44696320 \\\\\n",
       "\tsqft\\_above & 0.60556730   &  0.477600161 &  0.68534248  &  0.87659660  &  0.183512281 &  0.523884710 &  0.072074592 &  0.16764934  & -0.15821362  &  0.75592294  &  0.75592294  &  1.00000000  & -0.05194331  &  0.42389835 \\\\\n",
       "\tsqft\\_basement & 0.32381602   &  0.303093375 &  0.28377003  &  0.43504297  &  0.015286202 & -0.245704542 &  0.080587939 &  0.27694658  &  0.17410491  &  0.16839182  &  0.16839182  & -0.05194331  &  1.00000000  & -0.13312410 \\\\\n",
       "\tyr\\_built & 0.05401153   &  0.154178069 &  0.50601944  &  0.31804877  &  0.053080367 &  0.489319425 & -0.026161086 & -0.05343985  & -0.36141656  &  0.44696320  &  0.44696320  &  0.42389835  & -0.13312410  &  1.00000000 \\\\\n",
       "\\end{tabular}\n"
      ],
      "text/markdown": [
       "\n",
       "| <!--/--> | price | bedrooms | bathrooms | sqft_living | sqft_lot | floors | waterfront | view | condition | grade | grade.1 | sqft_above | sqft_basement | yr_built | \n",
       "|---|---|---|---|---|---|---|---|---|---|---|---|---|---|\n",
       "| price | 1.00000000   |  0.308349598 |  0.52513751  |  0.70203505  |  0.089660861 |  0.256793888 |  0.266369434 |  0.39729349  |  0.03636179  |  0.66743426  |  0.66743426  |  0.60556730  |  0.32381602  |  0.05401153  | \n",
       "| bedrooms | 0.30834960   |  1.000000000 |  0.51588364  |  0.57667069  |  0.031703243 |  0.175428935 | -0.006582479 |  0.07953185  |  0.02847210  |  0.35696673  |  0.35696673  |  0.47760016  |  0.30309338  |  0.15417807  | \n",
       "| bathrooms | 0.52513751   |  0.515883638 |  1.00000000  |  0.75466528  |  0.087739662 |  0.500653173 |  0.063743629 |  0.18773702  | -0.12498193  |  0.66498253  |  0.66498253  |  0.68534248  |  0.28377003  |  0.50601944  | \n",
       "| sqft_living | 0.70203505   |  0.576670693 |  0.75466528  |  1.00000000  |  0.172825661 |  0.353949290 |  0.103817818 |  0.28461119  | -0.05875259  |  0.76270448  |  0.76270448  |  0.87659660  |  0.43504297  |  0.31804877  | \n",
       "| sqft_lot | 0.08966086   |  0.031703243 |  0.08773966  |  0.17282566  |  1.000000000 | -0.005200991 |  0.021603683 |  0.07471011  | -0.00895825  |  0.11362112  |  0.11362112  |  0.18351228  |  0.01528620  |  0.05308037  | \n",
       "| floors | 0.25679389   |  0.175428935 |  0.50065317  |  0.35394929  | -0.005200991 |  1.000000000 |  0.023698320 |  0.02944382  | -0.26376795  |  0.45818251  |  0.45818251  |  0.52388471  | -0.24570454  |  0.48931942  | \n",
       "| waterfront | 0.26636943   | -0.006582479 |  0.06374363  |  0.10381782  |  0.021603683 |  0.023698320 |  1.000000000 |  0.40185735  |  0.01665316  |  0.08277491  |  0.08277491  |  0.07207459  |  0.08058794  | -0.02616109  | \n",
       "| view | 0.39729349   |  0.079531852 |  0.18773702  |  0.28461119  |  0.074710106 |  0.029443820 |  0.401857351 |  1.00000000  |  0.04598974  |  0.25132058  |  0.25132058  |  0.16764934  |  0.27694658  | -0.05343985  | \n",
       "| condition | 0.03636179   |  0.028472104 | -0.12498193  | -0.05875259  | -0.008958250 | -0.263767946 |  0.016653157 |  0.04598974  |  1.00000000  | -0.14467367  | -0.14467367  | -0.15821362  |  0.17410491  | -0.36141656  | \n",
       "| grade | 0.66743426   |  0.356966725 |  0.66498253  |  0.76270448  |  0.113621124 |  0.458182514 |  0.082774914 |  0.25132058  | -0.14467367  |  1.00000000  |  1.00000000  |  0.75592294  |  0.16839182  |  0.44696320  | \n",
       "| grade.1 | 0.66743426   |  0.356966725 |  0.66498253  |  0.76270448  |  0.113621124 |  0.458182514 |  0.082774914 |  0.25132058  | -0.14467367  |  1.00000000  |  1.00000000  |  0.75592294  |  0.16839182  |  0.44696320  | \n",
       "| sqft_above | 0.60556730   |  0.477600161 |  0.68534248  |  0.87659660  |  0.183512281 |  0.523884710 |  0.072074592 |  0.16764934  | -0.15821362  |  0.75592294  |  0.75592294  |  1.00000000  | -0.05194331  |  0.42389835  | \n",
       "| sqft_basement | 0.32381602   |  0.303093375 |  0.28377003  |  0.43504297  |  0.015286202 | -0.245704542 |  0.080587939 |  0.27694658  |  0.17410491  |  0.16839182  |  0.16839182  | -0.05194331  |  1.00000000  | -0.13312410  | \n",
       "| yr_built | 0.05401153   |  0.154178069 |  0.50601944  |  0.31804877  |  0.053080367 |  0.489319425 | -0.026161086 | -0.05343985  | -0.36141656  |  0.44696320  |  0.44696320  |  0.42389835  | -0.13312410  |  1.00000000  | \n",
       "\n",
       "\n"
      ],
      "text/plain": [
       "              price      bedrooms     bathrooms   sqft_living sqft_lot    \n",
       "price         1.00000000  0.308349598  0.52513751  0.70203505  0.089660861\n",
       "bedrooms      0.30834960  1.000000000  0.51588364  0.57667069  0.031703243\n",
       "bathrooms     0.52513751  0.515883638  1.00000000  0.75466528  0.087739662\n",
       "sqft_living   0.70203505  0.576670693  0.75466528  1.00000000  0.172825661\n",
       "sqft_lot      0.08966086  0.031703243  0.08773966  0.17282566  1.000000000\n",
       "floors        0.25679389  0.175428935  0.50065317  0.35394929 -0.005200991\n",
       "waterfront    0.26636943 -0.006582479  0.06374363  0.10381782  0.021603683\n",
       "view          0.39729349  0.079531852  0.18773702  0.28461119  0.074710106\n",
       "condition     0.03636179  0.028472104 -0.12498193 -0.05875259 -0.008958250\n",
       "grade         0.66743426  0.356966725  0.66498253  0.76270448  0.113621124\n",
       "grade.1       0.66743426  0.356966725  0.66498253  0.76270448  0.113621124\n",
       "sqft_above    0.60556730  0.477600161  0.68534248  0.87659660  0.183512281\n",
       "sqft_basement 0.32381602  0.303093375  0.28377003  0.43504297  0.015286202\n",
       "yr_built      0.05401153  0.154178069  0.50601944  0.31804877  0.053080367\n",
       "              floors       waterfront   view        condition   grade      \n",
       "price          0.256793888  0.266369434  0.39729349  0.03636179  0.66743426\n",
       "bedrooms       0.175428935 -0.006582479  0.07953185  0.02847210  0.35696673\n",
       "bathrooms      0.500653173  0.063743629  0.18773702 -0.12498193  0.66498253\n",
       "sqft_living    0.353949290  0.103817818  0.28461119 -0.05875259  0.76270448\n",
       "sqft_lot      -0.005200991  0.021603683  0.07471011 -0.00895825  0.11362112\n",
       "floors         1.000000000  0.023698320  0.02944382 -0.26376795  0.45818251\n",
       "waterfront     0.023698320  1.000000000  0.40185735  0.01665316  0.08277491\n",
       "view           0.029443820  0.401857351  1.00000000  0.04598974  0.25132058\n",
       "condition     -0.263767946  0.016653157  0.04598974  1.00000000 -0.14467367\n",
       "grade          0.458182514  0.082774914  0.25132058 -0.14467367  1.00000000\n",
       "grade.1        0.458182514  0.082774914  0.25132058 -0.14467367  1.00000000\n",
       "sqft_above     0.523884710  0.072074592  0.16764934 -0.15821362  0.75592294\n",
       "sqft_basement -0.245704542  0.080587939  0.27694658  0.17410491  0.16839182\n",
       "yr_built       0.489319425 -0.026161086 -0.05343985 -0.36141656  0.44696320\n",
       "              grade.1     sqft_above  sqft_basement yr_built   \n",
       "price          0.66743426  0.60556730  0.32381602    0.05401153\n",
       "bedrooms       0.35696673  0.47760016  0.30309338    0.15417807\n",
       "bathrooms      0.66498253  0.68534248  0.28377003    0.50601944\n",
       "sqft_living    0.76270448  0.87659660  0.43504297    0.31804877\n",
       "sqft_lot       0.11362112  0.18351228  0.01528620    0.05308037\n",
       "floors         0.45818251  0.52388471 -0.24570454    0.48931942\n",
       "waterfront     0.08277491  0.07207459  0.08058794   -0.02616109\n",
       "view           0.25132058  0.16764934  0.27694658   -0.05343985\n",
       "condition     -0.14467367 -0.15821362  0.17410491   -0.36141656\n",
       "grade          1.00000000  0.75592294  0.16839182    0.44696320\n",
       "grade.1        1.00000000  0.75592294  0.16839182    0.44696320\n",
       "sqft_above     0.75592294  1.00000000 -0.05194331    0.42389835\n",
       "sqft_basement  0.16839182 -0.05194331  1.00000000   -0.13312410\n",
       "yr_built       0.44696320  0.42389835 -0.13312410    1.00000000"
      ]
     },
     "metadata": {},
     "output_type": "display_data"
    }
   ],
   "source": [
    "casas <- read.csv('kc_house_data.csv', header = T, na.strings = '?')\n",
    "\n",
    "#Utilice la función str() para ver la estructura del conjunto de datos:\n",
    "summary(casas)\n",
    "\n",
    "cor(casas[,c(3,4,5,6,7,8,9,10,11,12,12,13,14,15)])\n"
   ]
  },
  {
   "cell_type": "markdown",
   "metadata": {},
   "source": [
    "## Exploración de los Datos"
   ]
  },
  {
   "cell_type": "code",
   "execution_count": 188,
   "metadata": {},
   "outputs": [
    {
     "data": {
      "text/plain": [
       "     price          sqft_living   \n",
       " Min.   :  75000   Min.   :  290  \n",
       " 1st Qu.: 321950   1st Qu.: 1427  \n",
       " Median : 450000   Median : 1910  \n",
       " Mean   : 540088   Mean   : 2080  \n",
       " 3rd Qu.: 645000   3rd Qu.: 2550  \n",
       " Max.   :7700000   Max.   :13540  "
      ]
     },
     "metadata": {},
     "output_type": "display_data"
    }
   ],
   "source": [
    "#librerías utilizadas\n",
    "library(caTools)\n",
    "library(ggplot2)\n",
    "#Evitar mostrar warning messages\n",
    "options(warn=-1)\n",
    "\n",
    "#establezca el directorio de trabajo\n",
    "#En caso de que el sitio este en algún directorio de la maquina\n",
    "#setwd('auto-mpg.txt')\n",
    "\n",
    "#cargue el archivo a una variable que se llame casas usando la función read.csv\n",
    "casas <- read.csv('kc_house_data.csv', header = T, na.strings = '?')\n",
    "\n",
    "#Selecionar \n",
    "casas<-casas[,c(3,6)]\n",
    "\n",
    "#Utilice la función str() para ver la estructura del conjunto de datos:\n",
    "summary(casas)\n",
    "\n",
    "#Dividir el conjunto de datos en uno de entrenamiento y otro de pruebas:\n",
    "set.seed(1376)\n",
    "splt <- sample.split(casas$price, SplitRatio = 0.7)\n",
    "casas.entrenamiento <- casas[splt, ]\n",
    "casas.prueba <- casas[!splt, ]\n"
   ]
  },
  {
   "cell_type": "markdown",
   "metadata": {},
   "source": [
    ">Es importante siempre validar los rangos de los conjuntos de datos creados, para evitar caer en extrapolación:"
   ]
  },
  {
   "cell_type": "code",
   "execution_count": 189,
   "metadata": {},
   "outputs": [
    {
     "name": "stdout",
     "output_type": "stream",
     "text": [
      "[1] \".................................Entrenamiento..................................\"\n"
     ]
    },
    {
     "data": {
      "text/plain": [
       "     price          sqft_living   \n",
       " Min.   :  75000   Min.   :  290  \n",
       " 1st Qu.: 323000   1st Qu.: 1430  \n",
       " Median : 452000   Median : 1920  \n",
       " Mean   : 546863   Mean   : 2092  \n",
       " 3rd Qu.: 650000   3rd Qu.: 2550  \n",
       " Max.   :7700000   Max.   :13540  "
      ]
     },
     "metadata": {},
     "output_type": "display_data"
    },
    {
     "name": "stdout",
     "output_type": "stream",
     "text": [
      "[1] \".................................Pruebas........................................\"\n"
     ]
    },
    {
     "data": {
      "text/plain": [
       "     price          sqft_living  \n",
       " Min.   :  85000   Min.   : 384  \n",
       " 1st Qu.: 320000   1st Qu.:1420  \n",
       " Median : 445000   Median :1900  \n",
       " Mean   : 522024   Mean   :2048  \n",
       " 3rd Qu.: 629000   3rd Qu.:2535  \n",
       " Max.   :3800000   Max.   :8020  "
      ]
     },
     "metadata": {},
     "output_type": "display_data"
    }
   ],
   "source": [
    "print(\".................................Entrenamiento..................................\")\n",
    "summary(casas.entrenamiento)\n",
    "print(\".................................Pruebas........................................\")\n",
    "summary(casas.prueba)"
   ]
  },
  {
   "cell_type": "markdown",
   "metadata": {},
   "source": [
    "De acuerdo con los resúmenes anteriores, las observaciones estan en el rango esperado."
   ]
  },
  {
   "cell_type": "code",
   "execution_count": 191,
   "metadata": {},
   "outputs": [
    {
     "data": {
      "image/png": "[encoded data removed]",
      "text/plain": [
       "Plot with title \"Relación entre Precio y Metros cuadrados\""
      ]
     },
     "metadata": {},
     "output_type": "display_data"
    }
   ],
   "source": [
    "plot(y = casas.entrenamiento$price,x = casas.entrenamiento$sqft_living, main = 'Relación entre Precio y Metros cuadrados', ylab = 'price', xlab = 'sqft_lot')"
   ]
  },
  {
   "cell_type": "markdown",
   "metadata": {},
   "source": [
    "La información del gráfico anterior podemos complementarla con una matriz de correlación:"
   ]
  },
  {
   "cell_type": "code",
   "execution_count": 192,
   "metadata": {},
   "outputs": [
    {
     "data": {
      "text/html": [
       "<table>\n",
       "<thead><tr><th></th><th scope=col>price</th><th scope=col>sqft_living</th></tr></thead>\n",
       "<tbody>\n",
       "\t<tr><th scope=row>price</th><td>1.0000000</td><td>0.7093176</td></tr>\n",
       "\t<tr><th scope=row>sqft_living</th><td>0.7093176</td><td>1.0000000</td></tr>\n",
       "</tbody>\n",
       "</table>\n"
      ],
      "text/latex": [
       "\\begin{tabular}{r|ll}\n",
       "  & price & sqft\\_living\\\\\n",
       "\\hline\n",
       "\tprice & 1.0000000 & 0.7093176\\\\\n",
       "\tsqft\\_living & 0.7093176 & 1.0000000\\\\\n",
       "\\end{tabular}\n"
      ],
      "text/markdown": [
       "\n",
       "| <!--/--> | price | sqft_living | \n",
       "|---|---|\n",
       "| price | 1.0000000 | 0.7093176 | \n",
       "| sqft_living | 0.7093176 | 1.0000000 | \n",
       "\n",
       "\n"
      ],
      "text/plain": [
       "            price     sqft_living\n",
       "price       1.0000000 0.7093176  \n",
       "sqft_living 0.7093176 1.0000000  "
      ]
     },
     "metadata": {},
     "output_type": "display_data"
    }
   ],
   "source": [
    "cor(casas.entrenamiento)"
   ]
  },
  {
   "cell_type": "markdown",
   "metadata": {},
   "source": [
    "Como pudimos apreciar en la matriz de gráficos de dispersión, y confirmar con la matriz de correlación, hay una correlación significativa entre los variables price y sqft_lot"
   ]
  },
  {
   "cell_type": "code",
   "execution_count": 193,
   "metadata": {},
   "outputs": [
    {
     "data": {
      "text/plain": [
       "\n",
       "Call:\n",
       "lm(formula = price ~ sqft_living, data = casas)\n",
       "\n",
       "Residuals:\n",
       "     Min       1Q   Median       3Q      Max \n",
       "-1476062  -147486   -24043   106182  4362067 \n",
       "\n",
       "Coefficients:\n",
       "              Estimate Std. Error t value Pr(>|t|)    \n",
       "(Intercept) -43580.743   4402.690  -9.899   <2e-16 ***\n",
       "sqft_living    280.624      1.936 144.920   <2e-16 ***\n",
       "---\n",
       "Signif. codes:  0 '***' 0.001 '**' 0.01 '*' 0.05 '.' 0.1 ' ' 1\n",
       "\n",
       "Residual standard error: 261500 on 21611 degrees of freedom\n",
       "Multiple R-squared:  0.4929,\tAdjusted R-squared:  0.4928 \n",
       "F-statistic: 2.1e+04 on 1 and 21611 DF,  p-value: < 2.2e-16\n"
      ]
     },
     "metadata": {},
     "output_type": "display_data"
    }
   ],
   "source": [
    "reg.price <- lm(price ~sqft_living, data = casas)\n",
    "\n",
    "summary(reg.price)\n"
   ]
  },
  {
   "cell_type": "code",
   "execution_count": 46,
   "metadata": {},
   "outputs": [
    {
     "data": {
      "image/png": "[encoded data removed]",
      "text/plain": [
       "Plot with title \"y = 6.6*x 34136.2\""
      ]
     },
     "metadata": {},
     "output_type": "display_data"
    }
   ],
   "source": [
    "\n",
    "coeff=coefficients(reg.mpg)\n",
    "eq = paste0(\"y = \", round(coeff[2],1), \"*x \", round(coeff[1],1))\n",
    "# plot\n",
    "plot(autos[,c(\"price\",\"lotsize\")], main=eq)\n",
    "abline(reg.mpg,log(data = autos), col=\"red\")"
   ]
  },
  {
   "cell_type": "code",
   "execution_count": 42,
   "metadata": {},
   "outputs": [
    {
     "data": {
      "image/png": "[encoded data removed]",
      "text/plain": [
       "plot without title"
      ]
     },
     "metadata": {},
     "output_type": "display_data"
    }
   ],
   "source": [
    "d = data.frame( x = c(154471 , 517423 , 704286 , 236117 , 10664898 , 21887 , 104994 , 794101 , 289567 , 74818 , 63920 , 251053 , 263583 , 84882 , 55075 , 741076 , 92000 , 137799 , 59856 , 184992 , 8292355), \n",
    "                   y = c(624 , 1681 , 590 , 2073 , 12189 , 42 , 343 , 365 , 969 , 108 , 366 , 1664 , 738 , 420 , 318 , 1278 , 887 , 395 , 462 , 1376 , 17907) \n",
    "                 ) \n",
    "plot(log(d), xlab=\"log(x)\", ylab=\"log(y)\") \n",
    "abline(lm(y ~ x, data = log(d))) \n"
   ]
  }
 ],
 "metadata": {
  "kernelspec": {
   "display_name": "R",
   "language": "R",
   "name": "ir"
  },
  "language_info": {
   "codemirror_mode": "r",
   "file_extension": ".r",
   "mimetype": "text/x-r-source",
   "name": "R",
   "pygments_lexer": "r",
   "version": "3.3.3"
  }
 },
 "nbformat": 4,
 "nbformat_minor": 2
}
